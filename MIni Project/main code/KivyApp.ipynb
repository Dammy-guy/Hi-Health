{
 "cells": [
  {
   "cell_type": "code",
   "execution_count": 3,
   "metadata": {},
   "outputs": [
    {
     "name": "stderr",
     "output_type": "stream",
     "text": [
      "[WARNING] [Config      ] Older configuration version detected (0 instead of 27)\n",
      "[WARNING] [Config      ] Upgrading configuration in progress.\n",
      "[DEBUG  ] [Config      ] Upgrading from 0 to 1\n",
      "[INFO   ] [Logger      ] Record log in C:\\Users\\Mohit\\.kivy\\logs\\kivy_24-11-30_0.txt\n",
      "[ERROR  ] [Core        ] option --f not a unique prefix\n"
     ]
    },
    {
     "name": "stdout",
     "output_type": "stream",
     "text": [
      "Kivy Usage: ipykernel_launcher.py [KIVY OPTION...] [-- PROGRAM OPTIONS]::\n",
      "\n",
      "            Options placed after a '-- ' separator, will not be touched by kivy,\n",
      "            and instead passed to your program.\n",
      "\n",
      "            Set KIVY_NO_ARGS=1 in your environment or before you import Kivy to\n",
      "            disable Kivy's argument parser.\n",
      "\n",
      "        -h, --help\n",
      "            Prints this help message.\n",
      "        -d, --debug\n",
      "            Shows debug log.\n",
      "        -a, --auto-fullscreen\n",
      "            Force 'auto' fullscreen mode (no resolution change).\n",
      "            Uses your display's resolution. This is most likely what you want.\n",
      "        -c, --config section:key[:value]\n",
      "            Set a custom [section] key=value in the configuration object.\n",
      "        -f, --fullscreen\n",
      "            Force running in fullscreen mode.\n",
      "        -k, --fake-fullscreen\n",
      "            Force 'fake' fullscreen mode (no window border/decoration).\n",
      "            Uses the resolution specified by width and height in your config.\n",
      "        -w, --windowed\n",
      "            Force running in a window.\n",
      "        -p, --provider id:provider[,options]\n",
      "            Add an input provider (eg: ccvtable1:tuio,192.168.0.1:3333).\n",
      "        -m mod, --module=mod\n",
      "            Activate a module (use \"list\" to get a list of available modules).\n",
      "        -r, --rotation\n",
      "            Rotate the window's contents (0, 90, 180, 270).\n",
      "        -s, --save\n",
      "            Save current Kivy configuration.\n",
      "        --size=640x480\n",
      "            Size of window geometry.\n",
      "        --dpi=96\n",
      "            Manually overload the Window DPI (for testing only.)\n",
      "    \n"
     ]
    },
    {
     "ename": "SystemExit",
     "evalue": "2",
     "output_type": "error",
     "traceback": [
      "An exception has occurred, use %tb to see the full traceback.\n",
      "\u001b[1;31mSystemExit\u001b[0m\u001b[1;31m:\u001b[0m 2\n"
     ]
    },
    {
     "name": "stderr",
     "output_type": "stream",
     "text": [
      " C:\\Users\\Mohit\\AppData\\Roaming\\Python\\Python312\\site-packages\\IPython\\core\\interactiveshell.py:3585: UserWarning: To exit: use 'exit', 'quit', or Ctrl-D.\n",
      "   warn(\"To exit: use 'exit', 'quit', or Ctrl-D.\", stacklevel=1)\n"
     ]
    }
   ],
   "source": [
    "# base Class of your App inherits from the App class.\n",
    "from kivy.app import App\n",
    "# GridLayout arranges children in a matrix.\n",
    "from kivy.uix.gridlayout import GridLayout\n",
    "# Label is used to label something\n",
    "from kivy.uix.label import Label\n",
    "# used to take input from users\n",
    "from kivy.uix.textinput import TextInput\n",
    "\n",
    "\n",
    "class LoginScreen(GridLayout):\n",
    "\tdef __init__(self, **var_args):\n",
    "\n",
    "\t\tsuper(LoginScreen, self).__init__(**var_args)\n",
    "\t\t# super function can be used to gain access\n",
    "\t\t# to inherited methods from a parent or sibling class\n",
    "\t\t# that has been overwritten in a class object.\n",
    "\t\tself.cols = 2\t # You can change it accordingly\n",
    "\t\tself.add_widget(Label(text='User Name'))\n",
    "\t\tself.username = TextInput(multiline=True)\n",
    "\n",
    "\t\t# multiline is used to take\n",
    "\t\t# multiline input if it is true\n",
    "\t\tself.add_widget(self.username)\n",
    "\t\tself.add_widget(Label(text='password'))\n",
    "\t\tself.password = TextInput(password=True, multiline=False)\n",
    "\n",
    "\t\t# password true is used to hide it\n",
    "\t\t# by * self.add_widget(self.password)\n",
    "\t\tself.add_widget(Label(text='Comfirm password'))\n",
    "\t\tself.password = TextInput(password=True, multiline=False)\n",
    "\t\tself.add_widget(self.password)\n",
    "\n",
    "\n",
    "# the Base Class of our Kivy App\n",
    "class MyApp(App):\n",
    "\tdef build(self):\n",
    "\t\t# return a LoginScreen() as a root widget\n",
    "\t\treturn LoginScreen()\n",
    "\n",
    "\n",
    "if __name__ == '__main__':\n",
    "\tMyApp().run()\n"
   ]
  }
 ],
 "metadata": {
  "kernelspec": {
   "display_name": "Python 3",
   "language": "python",
   "name": "python3"
  },
  "language_info": {
   "codemirror_mode": {
    "name": "ipython",
    "version": 3
   },
   "file_extension": ".py",
   "mimetype": "text/x-python",
   "name": "python",
   "nbconvert_exporter": "python",
   "pygments_lexer": "ipython3",
   "version": "3.12.6"
  }
 },
 "nbformat": 4,
 "nbformat_minor": 2
}
