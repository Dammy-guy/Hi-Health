{
 "cells": [
  {
   "cell_type": "code",
   "execution_count": null,
   "metadata": {},
   "outputs": [
    {
     "name": "stderr",
     "output_type": "stream",
     "text": [
      "Exception in Tkinter callback\n",
      "Traceback (most recent call last):\n",
      "  File \"c:\\Users\\Mohit\\AppData\\Local\\Programs\\Python\\Python312\\Lib\\tkinter\\__init__.py\", line 1968, in __call__\n",
      "    return self.func(*args)\n",
      "           ^^^^^^^^^^^^^^^^\n",
      "  File \"C:\\Users\\Mohit\\AppData\\Local\\Temp\\ipykernel_12492\\302820326.py\", line 31, in visualize_data\n",
      "    df = pd.DataFrame({\n",
      "         ^^\n",
      "NameError: name 'pd' is not defined\n"
     ]
    }
   ],
   "source": [
    "import tkinter as tk\n",
    "from tkinter import messagebox\n",
    "#import matplotlib.pyplot as plt\n",
    "#import pandas as pd\n",
    "\n",
    "# Function to submit health data\n",
    "def submit_data():\n",
    "    try:\n",
    "        heart_rate = int(heart_rate_entry.get())\n",
    "        blood_pressure = blood_pressure_entry.get()\n",
    "        weight = float(weight_entry.get())\n",
    "        \n",
    "        # Process and store the data (you can expand this part)\n",
    "        data = {\n",
    "            'Heart Rate': heart_rate,\n",
    "            'Blood Pressure': blood_pressure,\n",
    "            'Weight': weight\n",
    "        }\n",
    "        \n",
    "        # Display a message box with the entered data\n",
    "        messagebox.showinfo(\"Data Submitted\", f\"Data: {data}\")\n",
    "        \n",
    "        # Here you can add code to save the data to a file or database\n",
    "        \n",
    "    except ValueError:\n",
    "        messagebox.showerror(\"Input Error\", \"Please enter valid data.\")\n",
    "\n",
    "# Function to visualize data\n",
    "def visualize_data():\n",
    "    # Example data for visualization\n",
    "    df = pd.DataFrame({\n",
    "        'Metric': ['Heart Rate', 'Blood Pressure', 'Weight'],\n",
    "        'Value': [70, 120, 70]  # Replace with actual data\n",
    "    })\n",
    "    \n",
    "    plt.bar(df['Metric'], df['Value'])\n",
    "    plt.title('Health Metrics')\n",
    "    plt.ylabel('Value')\n",
    "    plt.show()\n",
    "\n",
    "# Create the main window\n",
    "root = tk.Tk()\n",
    "root.title(\"Health Monitoring Application\")\n",
    "\n",
    "# Create input fields\n",
    "tk.Label(root, text=\"Heart Rate:\").grid(row=0, column=0)\n",
    "heart_rate_entry = tk.Entry(root)\n",
    "heart_rate_entry.grid(row=0, column=1)\n",
    "\n",
    "tk.Label(root, text=\"Blood Pressure:\").grid(row=1, column=0)\n",
    "blood_pressure_entry = tk.Entry(root)\n",
    "blood_pressure_entry.grid(row=1, column=1)\n",
    "\n",
    "tk.Label(root, text=\"Weight:\").grid(row=2, column=0)\n",
    "weight_entry = tk.Entry(root)\n",
    "weight_entry.grid(row=2, column=1)\n",
    "\n",
    "# Create buttons\n",
    "submit_button = tk.Button(root, text=\"Submit Data\", command=submit_data)\n",
    "submit_button.grid(row=3, column=0, columnspan=2)\n",
    "\n",
    "visualize_button = tk.Button(root, text=\"Visualize Data\", command=visualize_data)\n",
    "visualize_button.grid(row=4, column=0, columnspan=2)\n",
    "\n",
    "# Run the application\n",
    "root.mainloop()"
   ]
  },
  {
   "cell_type": "code",
   "execution_count": null,
   "metadata": {},
   "outputs": [],
   "source": []
  }
 ],
 "metadata": {
  "kernelspec": {
   "display_name": "Python 3",
   "language": "python",
   "name": "python3"
  },
  "language_info": {
   "codemirror_mode": {
    "name": "ipython",
    "version": 3
   },
   "file_extension": ".py",
   "mimetype": "text/x-python",
   "name": "python",
   "nbconvert_exporter": "python",
   "pygments_lexer": "ipython3",
   "version": "3.12.6"
  }
 },
 "nbformat": 4,
 "nbformat_minor": 2
}
